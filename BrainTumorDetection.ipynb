{
  "nbformat": 4,
  "nbformat_minor": 0,
  "metadata": {
    "kernelspec": {
      "display_name": "Python 3",
      "language": "python",
      "name": "python3"
    },
    "language_info": {
      "codemirror_mode": {
        "name": "ipython",
        "version": 3
      },
      "file_extension": ".py",
      "mimetype": "text/x-python",
      "name": "python",
      "nbconvert_exporter": "python",
      "pygments_lexer": "ipython3",
      "version": "3.7.4"
    },
    "colab": {
      "name": "BrainTumorDetection.ipynb",
      "provenance": [],
      "collapsed_sections": [],
      "toc_visible": true
    },
    "accelerator": "GPU"
  },
  "cells": [
    {
      "cell_type": "markdown",
      "metadata": {
        "id": "IWSAbgugMRxc"
      },
      "source": [
        "#Brain Tumor Detection"
      ]
    },
    {
      "cell_type": "markdown",
      "metadata": {
        "id": "1-zorH-7MGo_"
      },
      "source": [
        "Importing the necessary libraries"
      ]
    },
    {
      "cell_type": "code",
      "metadata": {
        "id": "ce1w6hjM7mus"
      },
      "source": [
        "# General Libraries\n",
        "import numpy as np\n",
        "import pandas as pd\n",
        "import matplotlib.pyplot as plt\n",
        "# Image Preprocessing Libraries\n",
        "import cv2\n",
        "import imutils\n",
        "from keras.preprocessing.image import ImageDataGenerator\n",
        "# Model Libraries\n",
        "from keras.models import Sequential\n",
        "from keras.layers import Dense, Dropout, GlobalAveragePooling2D\n",
        "from keras.applications import MobileNetV2\n",
        "from keras.optimizers import Adam\n",
        "from keras.callbacks import EarlyStopping\n",
        "# Metrics Libraries\n",
        "from sklearn.metrics import precision_score\n",
        "from sklearn.metrics import recall_score\n",
        "from sklearn.metrics import f1_score\n",
        "from sklearn.metrics import cohen_kappa_score\n",
        "from sklearn.metrics import roc_auc_score"
      ],
      "execution_count": 1,
      "outputs": []
    },
    {
      "cell_type": "markdown",
      "metadata": {
        "id": "5ZTFQGU_MgPd"
      },
      "source": [
        "Downloading Dataset from Kaggle"
      ]
    },
    {
      "cell_type": "code",
      "metadata": {
        "id": "ARNeAOX58A7Q"
      },
      "source": [
        "'''\n",
        "!pip install -q kaggle\n",
        "!mkdir ~/.kaggle \n",
        "!cp kaggle.json ~/.kaggle/\n",
        "!chmod 600 ~/.kaggle/kaggle.json\n",
        "!mkdir data\n",
        "!kaggle datasets download -d navoneel/brain-mri-images-for-brain-tumor-detection -p data\n",
        "'''"
      ],
      "execution_count": null,
      "outputs": []
    },
    {
      "cell_type": "code",
      "metadata": {
        "colab": {
          "base_uri": "https://localhost:8080/"
        },
        "id": "Yi2KOvPTJpRQ",
        "outputId": "3c933376-1c85-490f-92e3-4960056de639"
      },
      "source": [
        "!unzip /content/data/brain-mri-images-for-brain-tumor-detection.zip -d brain_tumor_dataset"
      ],
      "execution_count": 3,
      "outputs": [
        {
          "output_type": "stream",
          "text": [
            "Archive:  /content/data/brain-mri-images-for-brain-tumor-detection.zip\n",
            "  inflating: brain_tumor_dataset/brain_tumor_dataset/no/1 no.jpeg  \n",
            "  inflating: brain_tumor_dataset/brain_tumor_dataset/no/10 no.jpg  \n",
            "  inflating: brain_tumor_dataset/brain_tumor_dataset/no/11 no.jpg  \n",
            "  inflating: brain_tumor_dataset/brain_tumor_dataset/no/12 no.jpg  \n",
            "  inflating: brain_tumor_dataset/brain_tumor_dataset/no/13 no.jpg  \n",
            "  inflating: brain_tumor_dataset/brain_tumor_dataset/no/14 no.jpg  \n",
            "  inflating: brain_tumor_dataset/brain_tumor_dataset/no/15 no.jpg  \n",
            "  inflating: brain_tumor_dataset/brain_tumor_dataset/no/17 no.jpg  \n",
            "  inflating: brain_tumor_dataset/brain_tumor_dataset/no/18 no.jpg  \n",
            "  inflating: brain_tumor_dataset/brain_tumor_dataset/no/19 no.jpg  \n",
            "  inflating: brain_tumor_dataset/brain_tumor_dataset/no/2 no.jpeg  \n",
            "  inflating: brain_tumor_dataset/brain_tumor_dataset/no/20 no.jpg  \n",
            "  inflating: brain_tumor_dataset/brain_tumor_dataset/no/21 no.jpg  \n",
            "  inflating: brain_tumor_dataset/brain_tumor_dataset/no/22 no.jpg  \n",
            "  inflating: brain_tumor_dataset/brain_tumor_dataset/no/23 no.jpg  \n",
            "  inflating: brain_tumor_dataset/brain_tumor_dataset/no/24 no.jpg  \n",
            "  inflating: brain_tumor_dataset/brain_tumor_dataset/no/25 no.jpg  \n",
            "  inflating: brain_tumor_dataset/brain_tumor_dataset/no/26 no.jpg  \n",
            "  inflating: brain_tumor_dataset/brain_tumor_dataset/no/27 no.jpg  \n",
            "  inflating: brain_tumor_dataset/brain_tumor_dataset/no/28 no.jpg  \n",
            "  inflating: brain_tumor_dataset/brain_tumor_dataset/no/29 no.jpg  \n",
            "  inflating: brain_tumor_dataset/brain_tumor_dataset/no/3 no.jpg  \n",
            "  inflating: brain_tumor_dataset/brain_tumor_dataset/no/30 no.jpg  \n",
            "  inflating: brain_tumor_dataset/brain_tumor_dataset/no/31 no.jpg  \n",
            "  inflating: brain_tumor_dataset/brain_tumor_dataset/no/32 no.jpg  \n",
            "  inflating: brain_tumor_dataset/brain_tumor_dataset/no/33 no.jpg  \n",
            "  inflating: brain_tumor_dataset/brain_tumor_dataset/no/34 no.jpg  \n",
            "  inflating: brain_tumor_dataset/brain_tumor_dataset/no/35 no.jpg  \n",
            "  inflating: brain_tumor_dataset/brain_tumor_dataset/no/36 no.jpg  \n",
            "  inflating: brain_tumor_dataset/brain_tumor_dataset/no/37 no.jpg  \n",
            "  inflating: brain_tumor_dataset/brain_tumor_dataset/no/38 no.jpg  \n",
            "  inflating: brain_tumor_dataset/brain_tumor_dataset/no/39 no.jpg  \n",
            "  inflating: brain_tumor_dataset/brain_tumor_dataset/no/4 no.jpg  \n",
            "  inflating: brain_tumor_dataset/brain_tumor_dataset/no/40 no.jpg  \n",
            "  inflating: brain_tumor_dataset/brain_tumor_dataset/no/41 no.jpg  \n",
            "  inflating: brain_tumor_dataset/brain_tumor_dataset/no/42 no.jpg  \n",
            "  inflating: brain_tumor_dataset/brain_tumor_dataset/no/43 no.jpg  \n",
            "  inflating: brain_tumor_dataset/brain_tumor_dataset/no/44no.jpg  \n",
            "  inflating: brain_tumor_dataset/brain_tumor_dataset/no/45 no.jpg  \n",
            "  inflating: brain_tumor_dataset/brain_tumor_dataset/no/46 no.jpg  \n",
            "  inflating: brain_tumor_dataset/brain_tumor_dataset/no/47 no.jpg  \n",
            "  inflating: brain_tumor_dataset/brain_tumor_dataset/no/48 no.jpeg  \n",
            "  inflating: brain_tumor_dataset/brain_tumor_dataset/no/49 no.jpg  \n",
            "  inflating: brain_tumor_dataset/brain_tumor_dataset/no/5 no.jpg  \n",
            "  inflating: brain_tumor_dataset/brain_tumor_dataset/no/50 no.jpg  \n",
            "  inflating: brain_tumor_dataset/brain_tumor_dataset/no/6 no.jpg  \n",
            "  inflating: brain_tumor_dataset/brain_tumor_dataset/no/7 no.jpg  \n",
            "  inflating: brain_tumor_dataset/brain_tumor_dataset/no/8 no.jpg  \n",
            "  inflating: brain_tumor_dataset/brain_tumor_dataset/no/9 no.jpg  \n",
            "  inflating: brain_tumor_dataset/brain_tumor_dataset/no/N1.JPG  \n",
            "  inflating: brain_tumor_dataset/brain_tumor_dataset/no/N11.jpg  \n",
            "  inflating: brain_tumor_dataset/brain_tumor_dataset/no/N15.jpg  \n",
            "  inflating: brain_tumor_dataset/brain_tumor_dataset/no/N16.jpg  \n",
            "  inflating: brain_tumor_dataset/brain_tumor_dataset/no/N17.jpg  \n",
            "  inflating: brain_tumor_dataset/brain_tumor_dataset/no/N19.JPG  \n",
            "  inflating: brain_tumor_dataset/brain_tumor_dataset/no/N2.JPG  \n",
            "  inflating: brain_tumor_dataset/brain_tumor_dataset/no/N20.JPG  \n",
            "  inflating: brain_tumor_dataset/brain_tumor_dataset/no/N21.jpg  \n",
            "  inflating: brain_tumor_dataset/brain_tumor_dataset/no/N22.JPG  \n",
            "  inflating: brain_tumor_dataset/brain_tumor_dataset/no/N26.JPG  \n",
            "  inflating: brain_tumor_dataset/brain_tumor_dataset/no/N3.jpg  \n",
            "  inflating: brain_tumor_dataset/brain_tumor_dataset/no/N5.jpg  \n",
            "  inflating: brain_tumor_dataset/brain_tumor_dataset/no/N6.jpg  \n",
            "  inflating: brain_tumor_dataset/brain_tumor_dataset/no/No11.jpg  \n",
            "  inflating: brain_tumor_dataset/brain_tumor_dataset/no/No12.jpg  \n",
            "  inflating: brain_tumor_dataset/brain_tumor_dataset/no/No13.jpg  \n",
            "  inflating: brain_tumor_dataset/brain_tumor_dataset/no/No14.jpg  \n",
            "  inflating: brain_tumor_dataset/brain_tumor_dataset/no/No15.jpg  \n",
            "  inflating: brain_tumor_dataset/brain_tumor_dataset/no/No16.jpg  \n",
            "  inflating: brain_tumor_dataset/brain_tumor_dataset/no/No17.jpg  \n",
            "  inflating: brain_tumor_dataset/brain_tumor_dataset/no/No18.jpg  \n",
            "  inflating: brain_tumor_dataset/brain_tumor_dataset/no/No19.jpg  \n",
            "  inflating: brain_tumor_dataset/brain_tumor_dataset/no/No20.jpg  \n",
            "  inflating: brain_tumor_dataset/brain_tumor_dataset/no/No21.jpg  \n",
            "  inflating: brain_tumor_dataset/brain_tumor_dataset/no/No22.jpg  \n",
            "  inflating: brain_tumor_dataset/brain_tumor_dataset/no/no 1.jpg  \n",
            "  inflating: brain_tumor_dataset/brain_tumor_dataset/no/no 10.jpg  \n",
            "  inflating: brain_tumor_dataset/brain_tumor_dataset/no/no 100.jpg  \n",
            "  inflating: brain_tumor_dataset/brain_tumor_dataset/no/no 2.jpg  \n",
            "  inflating: brain_tumor_dataset/brain_tumor_dataset/no/no 3.jpg  \n",
            "  inflating: brain_tumor_dataset/brain_tumor_dataset/no/no 4.jpg  \n",
            "  inflating: brain_tumor_dataset/brain_tumor_dataset/no/no 5.jpeg  \n",
            "  inflating: brain_tumor_dataset/brain_tumor_dataset/no/no 6.jpg  \n",
            "  inflating: brain_tumor_dataset/brain_tumor_dataset/no/no 7.jpeg  \n",
            "  inflating: brain_tumor_dataset/brain_tumor_dataset/no/no 8.jpg  \n",
            "  inflating: brain_tumor_dataset/brain_tumor_dataset/no/no 89.jpg  \n",
            "  inflating: brain_tumor_dataset/brain_tumor_dataset/no/no 9.png  \n",
            "  inflating: brain_tumor_dataset/brain_tumor_dataset/no/no 90.jpg  \n",
            "  inflating: brain_tumor_dataset/brain_tumor_dataset/no/no 91.jpeg  \n",
            "  inflating: brain_tumor_dataset/brain_tumor_dataset/no/no 92.jpg  \n",
            "  inflating: brain_tumor_dataset/brain_tumor_dataset/no/no 923.jpg  \n",
            "  inflating: brain_tumor_dataset/brain_tumor_dataset/no/no 94.jpg  \n",
            "  inflating: brain_tumor_dataset/brain_tumor_dataset/no/no 95.jpg  \n",
            "  inflating: brain_tumor_dataset/brain_tumor_dataset/no/no 96.jpg  \n",
            "  inflating: brain_tumor_dataset/brain_tumor_dataset/no/no 97.jpg  \n",
            "  inflating: brain_tumor_dataset/brain_tumor_dataset/no/no 98.jpg  \n",
            "  inflating: brain_tumor_dataset/brain_tumor_dataset/no/no 99.jpg  \n",
            "  inflating: brain_tumor_dataset/brain_tumor_dataset/no/no.jpg  \n",
            "  inflating: brain_tumor_dataset/brain_tumor_dataset/yes/Y1.jpg  \n",
            "  inflating: brain_tumor_dataset/brain_tumor_dataset/yes/Y10.jpg  \n",
            "  inflating: brain_tumor_dataset/brain_tumor_dataset/yes/Y100.JPG  \n",
            "  inflating: brain_tumor_dataset/brain_tumor_dataset/yes/Y101.jpg  \n",
            "  inflating: brain_tumor_dataset/brain_tumor_dataset/yes/Y102.jpg  \n",
            "  inflating: brain_tumor_dataset/brain_tumor_dataset/yes/Y103.jpg  \n",
            "  inflating: brain_tumor_dataset/brain_tumor_dataset/yes/Y104.jpg  \n",
            "  inflating: brain_tumor_dataset/brain_tumor_dataset/yes/Y105.jpg  \n",
            "  inflating: brain_tumor_dataset/brain_tumor_dataset/yes/Y106.jpg  \n",
            "  inflating: brain_tumor_dataset/brain_tumor_dataset/yes/Y107.jpg  \n",
            "  inflating: brain_tumor_dataset/brain_tumor_dataset/yes/Y108.jpg  \n",
            "  inflating: brain_tumor_dataset/brain_tumor_dataset/yes/Y109.JPG  \n",
            "  inflating: brain_tumor_dataset/brain_tumor_dataset/yes/Y11.jpg  \n",
            "  inflating: brain_tumor_dataset/brain_tumor_dataset/yes/Y111.JPG  \n",
            "  inflating: brain_tumor_dataset/brain_tumor_dataset/yes/Y112.JPG  \n",
            "  inflating: brain_tumor_dataset/brain_tumor_dataset/yes/Y113.JPG  \n",
            "  inflating: brain_tumor_dataset/brain_tumor_dataset/yes/Y114.JPG  \n",
            "  inflating: brain_tumor_dataset/brain_tumor_dataset/yes/Y115.JPG  \n",
            "  inflating: brain_tumor_dataset/brain_tumor_dataset/yes/Y116.JPG  \n",
            "  inflating: brain_tumor_dataset/brain_tumor_dataset/yes/Y117.JPG  \n",
            "  inflating: brain_tumor_dataset/brain_tumor_dataset/yes/Y12.jpg  \n",
            "  inflating: brain_tumor_dataset/brain_tumor_dataset/yes/Y120.JPG  \n",
            "  inflating: brain_tumor_dataset/brain_tumor_dataset/yes/Y13.jpg  \n",
            "  inflating: brain_tumor_dataset/brain_tumor_dataset/yes/Y14.jpg  \n",
            "  inflating: brain_tumor_dataset/brain_tumor_dataset/yes/Y146.JPG  \n",
            "  inflating: brain_tumor_dataset/brain_tumor_dataset/yes/Y147.JPG  \n",
            "  inflating: brain_tumor_dataset/brain_tumor_dataset/yes/Y148.JPG  \n",
            "  inflating: brain_tumor_dataset/brain_tumor_dataset/yes/Y15.jpg  \n",
            "  inflating: brain_tumor_dataset/brain_tumor_dataset/yes/Y153.jpg  \n",
            "  inflating: brain_tumor_dataset/brain_tumor_dataset/yes/Y154.jpg  \n",
            "  inflating: brain_tumor_dataset/brain_tumor_dataset/yes/Y155.JPG  \n",
            "  inflating: brain_tumor_dataset/brain_tumor_dataset/yes/Y156.JPG  \n",
            "  inflating: brain_tumor_dataset/brain_tumor_dataset/yes/Y157.JPG  \n",
            "  inflating: brain_tumor_dataset/brain_tumor_dataset/yes/Y158.JPG  \n",
            "  inflating: brain_tumor_dataset/brain_tumor_dataset/yes/Y159.JPG  \n",
            "  inflating: brain_tumor_dataset/brain_tumor_dataset/yes/Y16.JPG  \n",
            "  inflating: brain_tumor_dataset/brain_tumor_dataset/yes/Y160.JPG  \n",
            "  inflating: brain_tumor_dataset/brain_tumor_dataset/yes/Y161.JPG  \n",
            "  inflating: brain_tumor_dataset/brain_tumor_dataset/yes/Y162.jpg  \n",
            "  inflating: brain_tumor_dataset/brain_tumor_dataset/yes/Y163.JPG  \n",
            "  inflating: brain_tumor_dataset/brain_tumor_dataset/yes/Y164.JPG  \n",
            "  inflating: brain_tumor_dataset/brain_tumor_dataset/yes/Y165.JPG  \n",
            "  inflating: brain_tumor_dataset/brain_tumor_dataset/yes/Y166.JPG  \n",
            "  inflating: brain_tumor_dataset/brain_tumor_dataset/yes/Y167.JPG  \n",
            "  inflating: brain_tumor_dataset/brain_tumor_dataset/yes/Y168.jpg  \n",
            "  inflating: brain_tumor_dataset/brain_tumor_dataset/yes/Y169.jpg  \n",
            "  inflating: brain_tumor_dataset/brain_tumor_dataset/yes/Y17.jpg  \n",
            "  inflating: brain_tumor_dataset/brain_tumor_dataset/yes/Y170.JPG  \n",
            "  inflating: brain_tumor_dataset/brain_tumor_dataset/yes/Y18.JPG  \n",
            "  inflating: brain_tumor_dataset/brain_tumor_dataset/yes/Y180.jpg  \n",
            "  inflating: brain_tumor_dataset/brain_tumor_dataset/yes/Y181.jpg  \n",
            "  inflating: brain_tumor_dataset/brain_tumor_dataset/yes/Y182.JPG  \n",
            "  inflating: brain_tumor_dataset/brain_tumor_dataset/yes/Y183.jpg  \n",
            "  inflating: brain_tumor_dataset/brain_tumor_dataset/yes/Y184.JPG  \n",
            "  inflating: brain_tumor_dataset/brain_tumor_dataset/yes/Y185.jpg  \n",
            "  inflating: brain_tumor_dataset/brain_tumor_dataset/yes/Y186.jpg  \n",
            "  inflating: brain_tumor_dataset/brain_tumor_dataset/yes/Y187.jpg  \n",
            "  inflating: brain_tumor_dataset/brain_tumor_dataset/yes/Y188.jpg  \n",
            "  inflating: brain_tumor_dataset/brain_tumor_dataset/yes/Y19.JPG  \n",
            "  inflating: brain_tumor_dataset/brain_tumor_dataset/yes/Y192.JPG  \n",
            "  inflating: brain_tumor_dataset/brain_tumor_dataset/yes/Y193.JPG  \n",
            "  inflating: brain_tumor_dataset/brain_tumor_dataset/yes/Y194.jpg  \n",
            "  inflating: brain_tumor_dataset/brain_tumor_dataset/yes/Y195.JPG  \n",
            "  inflating: brain_tumor_dataset/brain_tumor_dataset/yes/Y2.jpg  \n",
            "  inflating: brain_tumor_dataset/brain_tumor_dataset/yes/Y20.jpg  \n",
            "  inflating: brain_tumor_dataset/brain_tumor_dataset/yes/Y21.jpg  \n",
            "  inflating: brain_tumor_dataset/brain_tumor_dataset/yes/Y22.jpg  \n",
            "  inflating: brain_tumor_dataset/brain_tumor_dataset/yes/Y23.JPG  \n",
            "  inflating: brain_tumor_dataset/brain_tumor_dataset/yes/Y24.jpg  \n",
            "  inflating: brain_tumor_dataset/brain_tumor_dataset/yes/Y242.JPG  \n",
            "  inflating: brain_tumor_dataset/brain_tumor_dataset/yes/Y243.JPG  \n",
            "  inflating: brain_tumor_dataset/brain_tumor_dataset/yes/Y244.JPG  \n",
            "  inflating: brain_tumor_dataset/brain_tumor_dataset/yes/Y245.jpg  \n",
            "  inflating: brain_tumor_dataset/brain_tumor_dataset/yes/Y246.JPG  \n",
            "  inflating: brain_tumor_dataset/brain_tumor_dataset/yes/Y247.JPG  \n",
            "  inflating: brain_tumor_dataset/brain_tumor_dataset/yes/Y248.JPG  \n",
            "  inflating: brain_tumor_dataset/brain_tumor_dataset/yes/Y249.JPG  \n",
            "  inflating: brain_tumor_dataset/brain_tumor_dataset/yes/Y25.jpg  \n",
            "  inflating: brain_tumor_dataset/brain_tumor_dataset/yes/Y250.jpg  \n",
            "  inflating: brain_tumor_dataset/brain_tumor_dataset/yes/Y251.JPG  \n",
            "  inflating: brain_tumor_dataset/brain_tumor_dataset/yes/Y252.jpg  \n",
            "  inflating: brain_tumor_dataset/brain_tumor_dataset/yes/Y253.JPG  \n",
            "  inflating: brain_tumor_dataset/brain_tumor_dataset/yes/Y254.jpg  \n",
            "  inflating: brain_tumor_dataset/brain_tumor_dataset/yes/Y255.JPG  \n",
            "  inflating: brain_tumor_dataset/brain_tumor_dataset/yes/Y256.JPG  \n",
            "  inflating: brain_tumor_dataset/brain_tumor_dataset/yes/Y257.jpg  \n",
            "  inflating: brain_tumor_dataset/brain_tumor_dataset/yes/Y258.JPG  \n",
            "  inflating: brain_tumor_dataset/brain_tumor_dataset/yes/Y259.JPG  \n",
            "  inflating: brain_tumor_dataset/brain_tumor_dataset/yes/Y26.jpg  \n",
            "  inflating: brain_tumor_dataset/brain_tumor_dataset/yes/Y27.jpg  \n",
            "  inflating: brain_tumor_dataset/brain_tumor_dataset/yes/Y28.jpg  \n",
            "  inflating: brain_tumor_dataset/brain_tumor_dataset/yes/Y29.jpg  \n",
            "  inflating: brain_tumor_dataset/brain_tumor_dataset/yes/Y3.jpg  \n",
            "  inflating: brain_tumor_dataset/brain_tumor_dataset/yes/Y30.jpg  \n",
            "  inflating: brain_tumor_dataset/brain_tumor_dataset/yes/Y31.jpg  \n",
            "  inflating: brain_tumor_dataset/brain_tumor_dataset/yes/Y32.jpg  \n",
            "  inflating: brain_tumor_dataset/brain_tumor_dataset/yes/Y33.jpg  \n",
            "  inflating: brain_tumor_dataset/brain_tumor_dataset/yes/Y34.jpg  \n",
            "  inflating: brain_tumor_dataset/brain_tumor_dataset/yes/Y35.jpg  \n",
            "  inflating: brain_tumor_dataset/brain_tumor_dataset/yes/Y36.JPG  \n",
            "  inflating: brain_tumor_dataset/brain_tumor_dataset/yes/Y37.jpg  \n",
            "  inflating: brain_tumor_dataset/brain_tumor_dataset/yes/Y38.jpg  \n",
            "  inflating: brain_tumor_dataset/brain_tumor_dataset/yes/Y39.jpg  \n",
            "  inflating: brain_tumor_dataset/brain_tumor_dataset/yes/Y4.jpg  \n",
            "  inflating: brain_tumor_dataset/brain_tumor_dataset/yes/Y40.JPG  \n",
            "  inflating: brain_tumor_dataset/brain_tumor_dataset/yes/Y41.jpg  \n",
            "  inflating: brain_tumor_dataset/brain_tumor_dataset/yes/Y42.jpg  \n",
            "  inflating: brain_tumor_dataset/brain_tumor_dataset/yes/Y44.JPG  \n",
            "  inflating: brain_tumor_dataset/brain_tumor_dataset/yes/Y45.JPG  \n",
            "  inflating: brain_tumor_dataset/brain_tumor_dataset/yes/Y46.jpg  \n",
            "  inflating: brain_tumor_dataset/brain_tumor_dataset/yes/Y47.JPG  \n",
            "  inflating: brain_tumor_dataset/brain_tumor_dataset/yes/Y49.JPG  \n",
            "  inflating: brain_tumor_dataset/brain_tumor_dataset/yes/Y50.JPG  \n",
            "  inflating: brain_tumor_dataset/brain_tumor_dataset/yes/Y51.jpg  \n",
            "  inflating: brain_tumor_dataset/brain_tumor_dataset/yes/Y52.jpg  \n",
            "  inflating: brain_tumor_dataset/brain_tumor_dataset/yes/Y53.jpg  \n",
            "  inflating: brain_tumor_dataset/brain_tumor_dataset/yes/Y54.jpg  \n",
            "  inflating: brain_tumor_dataset/brain_tumor_dataset/yes/Y55.jpg  \n",
            "  inflating: brain_tumor_dataset/brain_tumor_dataset/yes/Y56.jpg  \n",
            "  inflating: brain_tumor_dataset/brain_tumor_dataset/yes/Y58.JPG  \n",
            "  inflating: brain_tumor_dataset/brain_tumor_dataset/yes/Y59.JPG  \n",
            "  inflating: brain_tumor_dataset/brain_tumor_dataset/yes/Y6.jpg  \n",
            "  inflating: brain_tumor_dataset/brain_tumor_dataset/yes/Y60.jpg  \n",
            "  inflating: brain_tumor_dataset/brain_tumor_dataset/yes/Y61.jpg  \n",
            "  inflating: brain_tumor_dataset/brain_tumor_dataset/yes/Y62.jpg  \n",
            "  inflating: brain_tumor_dataset/brain_tumor_dataset/yes/Y65.JPG  \n",
            "  inflating: brain_tumor_dataset/brain_tumor_dataset/yes/Y66.JPG  \n",
            "  inflating: brain_tumor_dataset/brain_tumor_dataset/yes/Y67.JPG  \n",
            "  inflating: brain_tumor_dataset/brain_tumor_dataset/yes/Y69.jpg  \n",
            "  inflating: brain_tumor_dataset/brain_tumor_dataset/yes/Y7.jpg  \n",
            "  inflating: brain_tumor_dataset/brain_tumor_dataset/yes/Y70.jpg  \n",
            "  inflating: brain_tumor_dataset/brain_tumor_dataset/yes/Y71.JPG  \n",
            "  inflating: brain_tumor_dataset/brain_tumor_dataset/yes/Y73.jpg  \n",
            "  inflating: brain_tumor_dataset/brain_tumor_dataset/yes/Y74.jpg  \n",
            "  inflating: brain_tumor_dataset/brain_tumor_dataset/yes/Y75.JPG  \n",
            "  inflating: brain_tumor_dataset/brain_tumor_dataset/yes/Y76.jpg  \n",
            "  inflating: brain_tumor_dataset/brain_tumor_dataset/yes/Y77.jpg  \n",
            "  inflating: brain_tumor_dataset/brain_tumor_dataset/yes/Y78.jpg  \n",
            "  inflating: brain_tumor_dataset/brain_tumor_dataset/yes/Y79.jpg  \n",
            "  inflating: brain_tumor_dataset/brain_tumor_dataset/yes/Y8.jpg  \n",
            "  inflating: brain_tumor_dataset/brain_tumor_dataset/yes/Y81.jpg  \n",
            "  inflating: brain_tumor_dataset/brain_tumor_dataset/yes/Y82.jpg  \n",
            "  inflating: brain_tumor_dataset/brain_tumor_dataset/yes/Y85.JPG  \n",
            "  inflating: brain_tumor_dataset/brain_tumor_dataset/yes/Y86.JPG  \n",
            "  inflating: brain_tumor_dataset/brain_tumor_dataset/yes/Y89.JPG  \n",
            "  inflating: brain_tumor_dataset/brain_tumor_dataset/yes/Y9.jpg  \n",
            "  inflating: brain_tumor_dataset/brain_tumor_dataset/yes/Y90.jpg  \n",
            "  inflating: brain_tumor_dataset/brain_tumor_dataset/yes/Y91.jpg  \n",
            "  inflating: brain_tumor_dataset/brain_tumor_dataset/yes/Y92.jpg  \n",
            "  inflating: brain_tumor_dataset/brain_tumor_dataset/yes/Y92.png  \n",
            "  inflating: brain_tumor_dataset/brain_tumor_dataset/yes/Y95.jpg  \n",
            "  inflating: brain_tumor_dataset/brain_tumor_dataset/yes/Y96.jpg  \n",
            "  inflating: brain_tumor_dataset/brain_tumor_dataset/yes/Y97.JPG  \n",
            "  inflating: brain_tumor_dataset/brain_tumor_dataset/yes/Y98.JPG  \n",
            "  inflating: brain_tumor_dataset/brain_tumor_dataset/yes/Y99.JPG  \n",
            "  inflating: brain_tumor_dataset/no/1 no.jpeg  \n",
            "  inflating: brain_tumor_dataset/no/10 no.jpg  \n",
            "  inflating: brain_tumor_dataset/no/11 no.jpg  \n",
            "  inflating: brain_tumor_dataset/no/12 no.jpg  \n",
            "  inflating: brain_tumor_dataset/no/13 no.jpg  \n",
            "  inflating: brain_tumor_dataset/no/14 no.jpg  \n",
            "  inflating: brain_tumor_dataset/no/15 no.jpg  \n",
            "  inflating: brain_tumor_dataset/no/17 no.jpg  \n",
            "  inflating: brain_tumor_dataset/no/18 no.jpg  \n",
            "  inflating: brain_tumor_dataset/no/19 no.jpg  \n",
            "  inflating: brain_tumor_dataset/no/2 no.jpeg  \n",
            "  inflating: brain_tumor_dataset/no/20 no.jpg  \n",
            "  inflating: brain_tumor_dataset/no/21 no.jpg  \n",
            "  inflating: brain_tumor_dataset/no/22 no.jpg  \n",
            "  inflating: brain_tumor_dataset/no/23 no.jpg  \n",
            "  inflating: brain_tumor_dataset/no/24 no.jpg  \n",
            "  inflating: brain_tumor_dataset/no/25 no.jpg  \n",
            "  inflating: brain_tumor_dataset/no/26 no.jpg  \n",
            "  inflating: brain_tumor_dataset/no/27 no.jpg  \n",
            "  inflating: brain_tumor_dataset/no/28 no.jpg  \n",
            "  inflating: brain_tumor_dataset/no/29 no.jpg  \n",
            "  inflating: brain_tumor_dataset/no/3 no.jpg  \n",
            "  inflating: brain_tumor_dataset/no/30 no.jpg  \n",
            "  inflating: brain_tumor_dataset/no/31 no.jpg  \n",
            "  inflating: brain_tumor_dataset/no/32 no.jpg  \n",
            "  inflating: brain_tumor_dataset/no/33 no.jpg  \n",
            "  inflating: brain_tumor_dataset/no/34 no.jpg  \n",
            "  inflating: brain_tumor_dataset/no/35 no.jpg  \n",
            "  inflating: brain_tumor_dataset/no/36 no.jpg  \n",
            "  inflating: brain_tumor_dataset/no/37 no.jpg  \n",
            "  inflating: brain_tumor_dataset/no/38 no.jpg  \n",
            "  inflating: brain_tumor_dataset/no/39 no.jpg  \n",
            "  inflating: brain_tumor_dataset/no/4 no.jpg  \n",
            "  inflating: brain_tumor_dataset/no/40 no.jpg  \n",
            "  inflating: brain_tumor_dataset/no/41 no.jpg  \n",
            "  inflating: brain_tumor_dataset/no/42 no.jpg  \n",
            "  inflating: brain_tumor_dataset/no/43 no.jpg  \n",
            "  inflating: brain_tumor_dataset/no/44no.jpg  \n",
            "  inflating: brain_tumor_dataset/no/45 no.jpg  \n",
            "  inflating: brain_tumor_dataset/no/46 no.jpg  \n",
            "  inflating: brain_tumor_dataset/no/47 no.jpg  \n",
            "  inflating: brain_tumor_dataset/no/48 no.jpeg  \n",
            "  inflating: brain_tumor_dataset/no/49 no.jpg  \n",
            "  inflating: brain_tumor_dataset/no/5 no.jpg  \n",
            "  inflating: brain_tumor_dataset/no/50 no.jpg  \n",
            "  inflating: brain_tumor_dataset/no/6 no.jpg  \n",
            "  inflating: brain_tumor_dataset/no/7 no.jpg  \n",
            "  inflating: brain_tumor_dataset/no/8 no.jpg  \n",
            "  inflating: brain_tumor_dataset/no/9 no.jpg  \n",
            "  inflating: brain_tumor_dataset/no/N1.JPG  \n",
            "  inflating: brain_tumor_dataset/no/N11.jpg  \n",
            "  inflating: brain_tumor_dataset/no/N15.jpg  \n",
            "  inflating: brain_tumor_dataset/no/N16.jpg  \n",
            "  inflating: brain_tumor_dataset/no/N17.jpg  \n",
            "  inflating: brain_tumor_dataset/no/N19.JPG  \n",
            "  inflating: brain_tumor_dataset/no/N2.JPG  \n",
            "  inflating: brain_tumor_dataset/no/N20.JPG  \n",
            "  inflating: brain_tumor_dataset/no/N21.jpg  \n",
            "  inflating: brain_tumor_dataset/no/N22.JPG  \n",
            "  inflating: brain_tumor_dataset/no/N26.JPG  \n",
            "  inflating: brain_tumor_dataset/no/N3.jpg  \n",
            "  inflating: brain_tumor_dataset/no/N5.jpg  \n",
            "  inflating: brain_tumor_dataset/no/N6.jpg  \n",
            "  inflating: brain_tumor_dataset/no/No11.jpg  \n",
            "  inflating: brain_tumor_dataset/no/No12.jpg  \n",
            "  inflating: brain_tumor_dataset/no/No13.jpg  \n",
            "  inflating: brain_tumor_dataset/no/No14.jpg  \n",
            "  inflating: brain_tumor_dataset/no/No15.jpg  \n",
            "  inflating: brain_tumor_dataset/no/No16.jpg  \n",
            "  inflating: brain_tumor_dataset/no/No17.jpg  \n",
            "  inflating: brain_tumor_dataset/no/No18.jpg  \n",
            "  inflating: brain_tumor_dataset/no/No19.jpg  \n",
            "  inflating: brain_tumor_dataset/no/No20.jpg  \n",
            "  inflating: brain_tumor_dataset/no/No21.jpg  \n",
            "  inflating: brain_tumor_dataset/no/No22.jpg  \n",
            "  inflating: brain_tumor_dataset/no/no 1.jpg  \n",
            "  inflating: brain_tumor_dataset/no/no 10.jpg  \n",
            "  inflating: brain_tumor_dataset/no/no 100.jpg  \n",
            "  inflating: brain_tumor_dataset/no/no 2.jpg  \n",
            "  inflating: brain_tumor_dataset/no/no 3.jpg  \n",
            "  inflating: brain_tumor_dataset/no/no 4.jpg  \n",
            "  inflating: brain_tumor_dataset/no/no 5.jpeg  \n",
            "  inflating: brain_tumor_dataset/no/no 6.jpg  \n",
            "  inflating: brain_tumor_dataset/no/no 7.jpeg  \n",
            "  inflating: brain_tumor_dataset/no/no 8.jpg  \n",
            "  inflating: brain_tumor_dataset/no/no 89.jpg  \n",
            "  inflating: brain_tumor_dataset/no/no 9.png  \n",
            "  inflating: brain_tumor_dataset/no/no 90.jpg  \n",
            "  inflating: brain_tumor_dataset/no/no 91.jpeg  \n",
            "  inflating: brain_tumor_dataset/no/no 92.jpg  \n",
            "  inflating: brain_tumor_dataset/no/no 923.jpg  \n",
            "  inflating: brain_tumor_dataset/no/no 94.jpg  \n",
            "  inflating: brain_tumor_dataset/no/no 95.jpg  \n",
            "  inflating: brain_tumor_dataset/no/no 96.jpg  \n",
            "  inflating: brain_tumor_dataset/no/no 97.jpg  \n",
            "  inflating: brain_tumor_dataset/no/no 98.jpg  \n",
            "  inflating: brain_tumor_dataset/no/no 99.jpg  \n",
            "  inflating: brain_tumor_dataset/no/no.jpg  \n",
            "  inflating: brain_tumor_dataset/yes/Y1.jpg  \n",
            "  inflating: brain_tumor_dataset/yes/Y10.jpg  \n",
            "  inflating: brain_tumor_dataset/yes/Y100.JPG  \n",
            "  inflating: brain_tumor_dataset/yes/Y101.jpg  \n",
            "  inflating: brain_tumor_dataset/yes/Y102.jpg  \n",
            "  inflating: brain_tumor_dataset/yes/Y103.jpg  \n",
            "  inflating: brain_tumor_dataset/yes/Y104.jpg  \n",
            "  inflating: brain_tumor_dataset/yes/Y105.jpg  \n",
            "  inflating: brain_tumor_dataset/yes/Y106.jpg  \n",
            "  inflating: brain_tumor_dataset/yes/Y107.jpg  \n",
            "  inflating: brain_tumor_dataset/yes/Y108.jpg  \n",
            "  inflating: brain_tumor_dataset/yes/Y109.JPG  \n",
            "  inflating: brain_tumor_dataset/yes/Y11.jpg  \n",
            "  inflating: brain_tumor_dataset/yes/Y111.JPG  \n",
            "  inflating: brain_tumor_dataset/yes/Y112.JPG  \n",
            "  inflating: brain_tumor_dataset/yes/Y113.JPG  \n",
            "  inflating: brain_tumor_dataset/yes/Y114.JPG  \n",
            "  inflating: brain_tumor_dataset/yes/Y115.JPG  \n",
            "  inflating: brain_tumor_dataset/yes/Y116.JPG  \n",
            "  inflating: brain_tumor_dataset/yes/Y117.JPG  \n",
            "  inflating: brain_tumor_dataset/yes/Y12.jpg  \n",
            "  inflating: brain_tumor_dataset/yes/Y120.JPG  \n",
            "  inflating: brain_tumor_dataset/yes/Y13.jpg  \n",
            "  inflating: brain_tumor_dataset/yes/Y14.jpg  \n",
            "  inflating: brain_tumor_dataset/yes/Y146.JPG  \n",
            "  inflating: brain_tumor_dataset/yes/Y147.JPG  \n",
            "  inflating: brain_tumor_dataset/yes/Y148.JPG  \n",
            "  inflating: brain_tumor_dataset/yes/Y15.jpg  \n",
            "  inflating: brain_tumor_dataset/yes/Y153.jpg  \n",
            "  inflating: brain_tumor_dataset/yes/Y154.jpg  \n",
            "  inflating: brain_tumor_dataset/yes/Y155.JPG  \n",
            "  inflating: brain_tumor_dataset/yes/Y156.JPG  \n",
            "  inflating: brain_tumor_dataset/yes/Y157.JPG  \n",
            "  inflating: brain_tumor_dataset/yes/Y158.JPG  \n",
            "  inflating: brain_tumor_dataset/yes/Y159.JPG  \n",
            "  inflating: brain_tumor_dataset/yes/Y16.JPG  \n",
            "  inflating: brain_tumor_dataset/yes/Y160.JPG  \n",
            "  inflating: brain_tumor_dataset/yes/Y161.JPG  \n",
            "  inflating: brain_tumor_dataset/yes/Y162.jpg  \n",
            "  inflating: brain_tumor_dataset/yes/Y163.JPG  \n",
            "  inflating: brain_tumor_dataset/yes/Y164.JPG  \n",
            "  inflating: brain_tumor_dataset/yes/Y165.JPG  \n",
            "  inflating: brain_tumor_dataset/yes/Y166.JPG  \n",
            "  inflating: brain_tumor_dataset/yes/Y167.JPG  \n",
            "  inflating: brain_tumor_dataset/yes/Y168.jpg  \n",
            "  inflating: brain_tumor_dataset/yes/Y169.jpg  \n",
            "  inflating: brain_tumor_dataset/yes/Y17.jpg  \n",
            "  inflating: brain_tumor_dataset/yes/Y170.JPG  \n",
            "  inflating: brain_tumor_dataset/yes/Y18.JPG  \n",
            "  inflating: brain_tumor_dataset/yes/Y180.jpg  \n",
            "  inflating: brain_tumor_dataset/yes/Y181.jpg  \n",
            "  inflating: brain_tumor_dataset/yes/Y182.JPG  \n",
            "  inflating: brain_tumor_dataset/yes/Y183.jpg  \n",
            "  inflating: brain_tumor_dataset/yes/Y184.JPG  \n",
            "  inflating: brain_tumor_dataset/yes/Y185.jpg  \n",
            "  inflating: brain_tumor_dataset/yes/Y186.jpg  \n",
            "  inflating: brain_tumor_dataset/yes/Y187.jpg  \n",
            "  inflating: brain_tumor_dataset/yes/Y188.jpg  \n",
            "  inflating: brain_tumor_dataset/yes/Y19.JPG  \n",
            "  inflating: brain_tumor_dataset/yes/Y192.JPG  \n",
            "  inflating: brain_tumor_dataset/yes/Y193.JPG  \n",
            "  inflating: brain_tumor_dataset/yes/Y194.jpg  \n",
            "  inflating: brain_tumor_dataset/yes/Y195.JPG  \n",
            "  inflating: brain_tumor_dataset/yes/Y2.jpg  \n",
            "  inflating: brain_tumor_dataset/yes/Y20.jpg  \n",
            "  inflating: brain_tumor_dataset/yes/Y21.jpg  \n",
            "  inflating: brain_tumor_dataset/yes/Y22.jpg  \n",
            "  inflating: brain_tumor_dataset/yes/Y23.JPG  \n",
            "  inflating: brain_tumor_dataset/yes/Y24.jpg  \n",
            "  inflating: brain_tumor_dataset/yes/Y242.JPG  \n",
            "  inflating: brain_tumor_dataset/yes/Y243.JPG  \n",
            "  inflating: brain_tumor_dataset/yes/Y244.JPG  \n",
            "  inflating: brain_tumor_dataset/yes/Y245.jpg  \n",
            "  inflating: brain_tumor_dataset/yes/Y246.JPG  \n",
            "  inflating: brain_tumor_dataset/yes/Y247.JPG  \n",
            "  inflating: brain_tumor_dataset/yes/Y248.JPG  \n",
            "  inflating: brain_tumor_dataset/yes/Y249.JPG  \n",
            "  inflating: brain_tumor_dataset/yes/Y25.jpg  \n",
            "  inflating: brain_tumor_dataset/yes/Y250.jpg  \n",
            "  inflating: brain_tumor_dataset/yes/Y251.JPG  \n",
            "  inflating: brain_tumor_dataset/yes/Y252.jpg  \n",
            "  inflating: brain_tumor_dataset/yes/Y253.JPG  \n",
            "  inflating: brain_tumor_dataset/yes/Y254.jpg  \n",
            "  inflating: brain_tumor_dataset/yes/Y255.JPG  \n",
            "  inflating: brain_tumor_dataset/yes/Y256.JPG  \n",
            "  inflating: brain_tumor_dataset/yes/Y257.jpg  \n",
            "  inflating: brain_tumor_dataset/yes/Y258.JPG  \n",
            "  inflating: brain_tumor_dataset/yes/Y259.JPG  \n",
            "  inflating: brain_tumor_dataset/yes/Y26.jpg  \n",
            "  inflating: brain_tumor_dataset/yes/Y27.jpg  \n",
            "  inflating: brain_tumor_dataset/yes/Y28.jpg  \n",
            "  inflating: brain_tumor_dataset/yes/Y29.jpg  \n",
            "  inflating: brain_tumor_dataset/yes/Y3.jpg  \n",
            "  inflating: brain_tumor_dataset/yes/Y30.jpg  \n",
            "  inflating: brain_tumor_dataset/yes/Y31.jpg  \n",
            "  inflating: brain_tumor_dataset/yes/Y32.jpg  \n",
            "  inflating: brain_tumor_dataset/yes/Y33.jpg  \n",
            "  inflating: brain_tumor_dataset/yes/Y34.jpg  \n",
            "  inflating: brain_tumor_dataset/yes/Y35.jpg  \n",
            "  inflating: brain_tumor_dataset/yes/Y36.JPG  \n",
            "  inflating: brain_tumor_dataset/yes/Y37.jpg  \n",
            "  inflating: brain_tumor_dataset/yes/Y38.jpg  \n",
            "  inflating: brain_tumor_dataset/yes/Y39.jpg  \n",
            "  inflating: brain_tumor_dataset/yes/Y4.jpg  \n",
            "  inflating: brain_tumor_dataset/yes/Y40.JPG  \n",
            "  inflating: brain_tumor_dataset/yes/Y41.jpg  \n",
            "  inflating: brain_tumor_dataset/yes/Y42.jpg  \n",
            "  inflating: brain_tumor_dataset/yes/Y44.JPG  \n",
            "  inflating: brain_tumor_dataset/yes/Y45.JPG  \n",
            "  inflating: brain_tumor_dataset/yes/Y46.jpg  \n",
            "  inflating: brain_tumor_dataset/yes/Y47.JPG  \n",
            "  inflating: brain_tumor_dataset/yes/Y49.JPG  \n",
            "  inflating: brain_tumor_dataset/yes/Y50.JPG  \n",
            "  inflating: brain_tumor_dataset/yes/Y51.jpg  \n",
            "  inflating: brain_tumor_dataset/yes/Y52.jpg  \n",
            "  inflating: brain_tumor_dataset/yes/Y53.jpg  \n",
            "  inflating: brain_tumor_dataset/yes/Y54.jpg  \n",
            "  inflating: brain_tumor_dataset/yes/Y55.jpg  \n",
            "  inflating: brain_tumor_dataset/yes/Y56.jpg  \n",
            "  inflating: brain_tumor_dataset/yes/Y58.JPG  \n",
            "  inflating: brain_tumor_dataset/yes/Y59.JPG  \n",
            "  inflating: brain_tumor_dataset/yes/Y6.jpg  \n",
            "  inflating: brain_tumor_dataset/yes/Y60.jpg  \n",
            "  inflating: brain_tumor_dataset/yes/Y61.jpg  \n",
            "  inflating: brain_tumor_dataset/yes/Y62.jpg  \n",
            "  inflating: brain_tumor_dataset/yes/Y65.JPG  \n",
            "  inflating: brain_tumor_dataset/yes/Y66.JPG  \n",
            "  inflating: brain_tumor_dataset/yes/Y67.JPG  \n",
            "  inflating: brain_tumor_dataset/yes/Y69.jpg  \n",
            "  inflating: brain_tumor_dataset/yes/Y7.jpg  \n",
            "  inflating: brain_tumor_dataset/yes/Y70.jpg  \n",
            "  inflating: brain_tumor_dataset/yes/Y71.JPG  \n",
            "  inflating: brain_tumor_dataset/yes/Y73.jpg  \n",
            "  inflating: brain_tumor_dataset/yes/Y74.jpg  \n",
            "  inflating: brain_tumor_dataset/yes/Y75.JPG  \n",
            "  inflating: brain_tumor_dataset/yes/Y76.jpg  \n",
            "  inflating: brain_tumor_dataset/yes/Y77.jpg  \n",
            "  inflating: brain_tumor_dataset/yes/Y78.jpg  \n",
            "  inflating: brain_tumor_dataset/yes/Y79.jpg  \n",
            "  inflating: brain_tumor_dataset/yes/Y8.jpg  \n",
            "  inflating: brain_tumor_dataset/yes/Y81.jpg  \n",
            "  inflating: brain_tumor_dataset/yes/Y82.jpg  \n",
            "  inflating: brain_tumor_dataset/yes/Y85.JPG  \n",
            "  inflating: brain_tumor_dataset/yes/Y86.JPG  \n",
            "  inflating: brain_tumor_dataset/yes/Y89.JPG  \n",
            "  inflating: brain_tumor_dataset/yes/Y9.jpg  \n",
            "  inflating: brain_tumor_dataset/yes/Y90.jpg  \n",
            "  inflating: brain_tumor_dataset/yes/Y91.jpg  \n",
            "  inflating: brain_tumor_dataset/yes/Y92.jpg  \n",
            "  inflating: brain_tumor_dataset/yes/Y92.png  \n",
            "  inflating: brain_tumor_dataset/yes/Y95.jpg  \n",
            "  inflating: brain_tumor_dataset/yes/Y96.jpg  \n",
            "  inflating: brain_tumor_dataset/yes/Y97.JPG  \n",
            "  inflating: brain_tumor_dataset/yes/Y98.JPG  \n",
            "  inflating: brain_tumor_dataset/yes/Y99.JPG  \n"
          ],
          "name": "stdout"
        }
      ]
    },
    {
      "cell_type": "code",
      "metadata": {
        "id": "5pfKcb8QKnlS"
      },
      "source": [
        "!rm -rf brain_tumor_dataset/brain_tumor_dataset"
      ],
      "execution_count": 4,
      "outputs": []
    },
    {
      "cell_type": "markdown",
      "metadata": {
        "id": "W0OrXtM9NyIR"
      },
      "source": [
        "Building the model"
      ]
    },
    {
      "cell_type": "code",
      "metadata": {
        "id": "ifAlsuig7mus"
      },
      "source": [
        "# Hyperparameters\n",
        "IMG_SIZE = 224\n",
        "BATCH_SIZE = 8\n",
        "EPOCHS = 50"
      ],
      "execution_count": 5,
      "outputs": []
    },
    {
      "cell_type": "code",
      "metadata": {
        "id": "YKdl7Ik_7mus"
      },
      "source": [
        "mobile = MobileNetV2(include_top=False, weights='imagenet', input_shape=(IMG_SIZE,IMG_SIZE,3))\n",
        "for layer in mobile.layers[20:]:\n",
        "      layer.trainable = True"
      ],
      "execution_count": null,
      "outputs": []
    },
    {
      "cell_type": "code",
      "metadata": {
        "id": "2eak26A87mus"
      },
      "source": [
        "model = Sequential()\n",
        "model.add(mobile)\n",
        "model.add(GlobalAveragePooling2D())\n",
        "model.add(Dropout(0.2))\n",
        "model.add(Dense(units = 1, activation='sigmoid'))\n",
        "\n",
        "model.compile(optimizer=Adam(lr=0.0001), loss='binary_crossentropy', metrics=['accuracy'])"
      ],
      "execution_count": 7,
      "outputs": []
    },
    {
      "cell_type": "code",
      "metadata": {
        "colab": {
          "base_uri": "https://localhost:8080/"
        },
        "id": "zKXWoSRX7mus",
        "outputId": "25b78320-fc30-4216-faac-80218c3d118b"
      },
      "source": [
        "model.summary()"
      ],
      "execution_count": 8,
      "outputs": [
        {
          "output_type": "stream",
          "text": [
            "Model: \"sequential\"\n",
            "_________________________________________________________________\n",
            "Layer (type)                 Output Shape              Param #   \n",
            "=================================================================\n",
            "mobilenetv2_1.00_224 (Functi (None, 7, 7, 1280)        2257984   \n",
            "_________________________________________________________________\n",
            "global_average_pooling2d (Gl (None, 1280)              0         \n",
            "_________________________________________________________________\n",
            "dropout (Dropout)            (None, 1280)              0         \n",
            "_________________________________________________________________\n",
            "dense (Dense)                (None, 1)                 1281      \n",
            "=================================================================\n",
            "Total params: 2,259,265\n",
            "Trainable params: 2,225,153\n",
            "Non-trainable params: 34,112\n",
            "_________________________________________________________________\n"
          ],
          "name": "stdout"
        }
      ]
    },
    {
      "cell_type": "markdown",
      "metadata": {
        "id": "ovhnmdikMqRg"
      },
      "source": [
        "Preprocessing the data"
      ]
    },
    {
      "cell_type": "code",
      "metadata": {
        "id": "cq-DQSaA7mus"
      },
      "source": [
        "def crop_img(img):\n",
        "    \"\"\"\n",
        "    Removes the excess part of the image and only keeps the brain image \n",
        "    \"\"\"\n",
        "    gray = cv2.cvtColor(img, cv2.COLOR_RGB2GRAY)\n",
        "    gray = cv2.GaussianBlur(gray, (5, 5), 0)\n",
        "\n",
        "    # Thresholding and Denoising the image\n",
        "    thresh = cv2.threshold(gray, 45, 255, cv2.THRESH_BINARY)[1]\n",
        "    \n",
        "    # Denoising using a series of erosion and dilation\n",
        "    thresh = cv2.erode(thresh, None, iterations=2)\n",
        "    thresh = cv2.dilate(thresh, None, iterations=2)\n",
        "    thresh = np.uint8(thresh)\n",
        "    # Finding and selecting the largest contour in the image\n",
        "    cnts = cv2.findContours(thresh.copy(), cv2.RETR_EXTERNAL, cv2.CHAIN_APPROX_SIMPLE)\n",
        "    cnts = imutils.grab_contours(cnts)\n",
        "    c = max(cnts, key=cv2.contourArea)\n",
        "\n",
        "    # Finding the extreme points of the contour\n",
        "    extLeft = tuple(c[c[:, :, 0].argmin()][0])\n",
        "    extRight = tuple(c[c[:, :, 0].argmax()][0])\n",
        "    extTop = tuple(c[c[:, :, 1].argmin()][0])\n",
        "    extBot = tuple(c[c[:, :, 1].argmax()][0])\n",
        "    \n",
        "    # Cropping the image\n",
        "    img_cropped = img[extTop[1]:extBot[1], extLeft[0]:extRight[0]].copy()\n",
        "    \n",
        "    #Resizing Image\n",
        "    img_final = cv2.resize(np.array(img_cropped), (IMG_SIZE, IMG_SIZE))\n",
        "    \n",
        "    return img_final"
      ],
      "execution_count": 9,
      "outputs": []
    },
    {
      "cell_type": "code",
      "metadata": {
        "colab": {
          "base_uri": "https://localhost:8080/"
        },
        "id": "6GMcydi87muu",
        "outputId": "9d4310c4-301c-42a3-a0b7-f37cafd72a2a"
      },
      "source": [
        "\n",
        "es = EarlyStopping(patience=7)\n",
        "datagen = ImageDataGenerator(rescale = 1./255,\n",
        "                             validation_split = 0.1, \n",
        "                             preprocessing_function=crop_img)\n",
        "\n",
        "train_set = datagen.flow_from_directory('/content/brain_tumor_dataset',\n",
        "                                        target_size=(IMG_SIZE, IMG_SIZE),\n",
        "                                        batch_size = BATCH_SIZE,\n",
        "                                        subset='training',\n",
        "                                        class_mode = 'binary')\n",
        "\n",
        "validation_set = datagen.flow_from_directory('/content/brain_tumor_dataset',\n",
        "                                            target_size=(IMG_SIZE, IMG_SIZE),\n",
        "                                            batch_size = BATCH_SIZE,\n",
        "                                            subset='validation',\n",
        "                                            class_mode = 'binary',\n",
        "                                            shuffle=False)"
      ],
      "execution_count": 10,
      "outputs": [
        {
          "output_type": "stream",
          "text": [
            "Found 229 images belonging to 2 classes.\n",
            "Found 24 images belonging to 2 classes.\n"
          ],
          "name": "stdout"
        }
      ]
    },
    {
      "cell_type": "markdown",
      "metadata": {
        "id": "Q5UxSxZhNI6T"
      },
      "source": [
        "Fitting the Model on train and validation data"
      ]
    },
    {
      "cell_type": "code",
      "metadata": {
        "colab": {
          "base_uri": "https://localhost:8080/"
        },
        "id": "zE5FXe14M0Kk",
        "outputId": "65928be3-2efc-4660-fc6d-e197d0727db0"
      },
      "source": [
        "history = model.fit(train_set,\n",
        "                    steps_per_epoch = train_set.n//train_set.batch_size,\n",
        "                    epochs = EPOCHS,\n",
        "                    validation_data = validation_set,\n",
        "                    validation_steps = validation_set.n//validation_set.batch_size,\n",
        "                    verbose = 2,\n",
        "                    callbacks=[es])"
      ],
      "execution_count": 11,
      "outputs": [
        {
          "output_type": "stream",
          "text": [
            "Epoch 1/50\n",
            "28/28 - 3s - loss: 0.6379 - accuracy: 0.6244 - val_loss: 0.7995 - val_accuracy: 0.4167\n",
            "Epoch 2/50\n",
            "28/28 - 2s - loss: 0.2607 - accuracy: 0.9186 - val_loss: 1.0918 - val_accuracy: 0.4167\n",
            "Epoch 3/50\n",
            "28/28 - 2s - loss: 0.2029 - accuracy: 0.9186 - val_loss: 1.4507 - val_accuracy: 0.4167\n",
            "Epoch 4/50\n",
            "28/28 - 2s - loss: 0.1221 - accuracy: 0.9683 - val_loss: 1.1173 - val_accuracy: 0.5417\n",
            "Epoch 5/50\n",
            "28/28 - 2s - loss: 0.0733 - accuracy: 0.9819 - val_loss: 1.3652 - val_accuracy: 0.5000\n",
            "Epoch 6/50\n",
            "28/28 - 2s - loss: 0.0399 - accuracy: 0.9955 - val_loss: 1.2726 - val_accuracy: 0.5000\n",
            "Epoch 7/50\n",
            "28/28 - 2s - loss: 0.0367 - accuracy: 0.9910 - val_loss: 0.8513 - val_accuracy: 0.7083\n",
            "Epoch 8/50\n",
            "28/28 - 2s - loss: 0.0763 - accuracy: 0.9729 - val_loss: 0.7696 - val_accuracy: 0.7500\n",
            "Epoch 9/50\n",
            "28/28 - 2s - loss: 0.0286 - accuracy: 0.9910 - val_loss: 0.5993 - val_accuracy: 0.7500\n",
            "Epoch 10/50\n",
            "28/28 - 2s - loss: 0.0695 - accuracy: 0.9729 - val_loss: 0.6115 - val_accuracy: 0.7083\n",
            "Epoch 11/50\n",
            "28/28 - 2s - loss: 0.1180 - accuracy: 0.9729 - val_loss: 0.2848 - val_accuracy: 0.8750\n",
            "Epoch 12/50\n",
            "28/28 - 2s - loss: 0.1207 - accuracy: 0.9502 - val_loss: 0.6134 - val_accuracy: 0.7500\n",
            "Epoch 13/50\n",
            "28/28 - 2s - loss: 0.0810 - accuracy: 0.9683 - val_loss: 1.1493 - val_accuracy: 0.5833\n",
            "Epoch 14/50\n",
            "28/28 - 2s - loss: 0.0460 - accuracy: 0.9864 - val_loss: 0.5084 - val_accuracy: 0.7917\n",
            "Epoch 15/50\n",
            "28/28 - 2s - loss: 0.0523 - accuracy: 0.9774 - val_loss: 0.2476 - val_accuracy: 0.8750\n",
            "Epoch 16/50\n",
            "28/28 - 2s - loss: 0.0328 - accuracy: 0.9774 - val_loss: 0.2726 - val_accuracy: 0.9167\n",
            "Epoch 17/50\n",
            "28/28 - 2s - loss: 0.0807 - accuracy: 0.9729 - val_loss: 0.2115 - val_accuracy: 0.8333\n",
            "Epoch 18/50\n",
            "28/28 - 2s - loss: 0.0373 - accuracy: 0.9910 - val_loss: 0.1492 - val_accuracy: 0.9167\n",
            "Epoch 19/50\n",
            "28/28 - 2s - loss: 0.0393 - accuracy: 0.9910 - val_loss: 0.2140 - val_accuracy: 0.9167\n",
            "Epoch 20/50\n",
            "28/28 - 2s - loss: 0.0230 - accuracy: 1.0000 - val_loss: 0.2389 - val_accuracy: 0.9167\n",
            "Epoch 21/50\n",
            "28/28 - 2s - loss: 0.0127 - accuracy: 0.9955 - val_loss: 0.2450 - val_accuracy: 0.8750\n",
            "Epoch 22/50\n",
            "28/28 - 2s - loss: 0.0050 - accuracy: 1.0000 - val_loss: 0.2192 - val_accuracy: 0.8750\n",
            "Epoch 23/50\n",
            "28/28 - 2s - loss: 0.0112 - accuracy: 0.9955 - val_loss: 0.1230 - val_accuracy: 0.9167\n",
            "Epoch 24/50\n",
            "28/28 - 2s - loss: 0.0209 - accuracy: 0.9955 - val_loss: 0.0748 - val_accuracy: 0.9583\n",
            "Epoch 25/50\n",
            "28/28 - 2s - loss: 0.0048 - accuracy: 1.0000 - val_loss: 0.1010 - val_accuracy: 0.9167\n",
            "Epoch 26/50\n",
            "28/28 - 2s - loss: 0.0052 - accuracy: 1.0000 - val_loss: 0.1229 - val_accuracy: 0.9167\n",
            "Epoch 27/50\n",
            "28/28 - 2s - loss: 0.0239 - accuracy: 0.9955 - val_loss: 0.1934 - val_accuracy: 0.9167\n",
            "Epoch 28/50\n",
            "28/28 - 2s - loss: 0.0152 - accuracy: 0.9955 - val_loss: 0.2710 - val_accuracy: 0.8750\n",
            "Epoch 29/50\n",
            "28/28 - 2s - loss: 0.0108 - accuracy: 0.9955 - val_loss: 0.2126 - val_accuracy: 0.9167\n",
            "Epoch 30/50\n",
            "28/28 - 2s - loss: 0.0441 - accuracy: 0.9910 - val_loss: 0.2303 - val_accuracy: 0.8750\n",
            "Epoch 31/50\n",
            "28/28 - 2s - loss: 0.0168 - accuracy: 0.9910 - val_loss: 0.4830 - val_accuracy: 0.9167\n"
          ],
          "name": "stdout"
        }
      ]
    },
    {
      "cell_type": "code",
      "metadata": {
        "colab": {
          "base_uri": "https://localhost:8080/",
          "height": 295
        },
        "id": "kW8Q2J8VOqKa",
        "outputId": "091ad5d6-aa1a-4b46-cd03-6136115579a4"
      },
      "source": [
        "# Plotting model accuracy\n",
        "plt.plot(history.history['accuracy'])\n",
        "plt.plot(history.history['val_accuracy'])\n",
        "plt.title('Model Accuracy')\n",
        "plt.ylabel('Accuracy')\n",
        "plt.xlabel('Epoch')\n",
        "plt.legend(['Train', 'Test'], loc='upper left')\n",
        "plt.show()"
      ],
      "execution_count": 12,
      "outputs": [
        {
          "output_type": "display_data",
          "data": {
            "image/png": "[encoded data removed]",
            "text/plain": [
              "<Figure size 432x288 with 1 Axes>"
            ]
          },
          "metadata": {
            "tags": [],
            "needs_background": "light"
          }
        }
      ]
    },
    {
      "cell_type": "code",
      "metadata": {
        "colab": {
          "base_uri": "https://localhost:8080/",
          "height": 295
        },
        "id": "42F4U8aQOsgm",
        "outputId": "ad73d604-8b4e-4977-c299-d0a57aa5961a"
      },
      "source": [
        "# Plotting model loss\n",
        "plt.plot(history.history['loss'])\n",
        "plt.plot(history.history['val_loss'])\n",
        "plt.title('Model Loss')\n",
        "plt.ylabel('Loss')\n",
        "plt.xlabel('Epoch')\n",
        "plt.legend(['Train', 'Test'], loc='upper left')\n",
        "plt.show()"
      ],
      "execution_count": 13,
      "outputs": [
        {
          "output_type": "display_data",
          "data": {
            "image/png": "[encoded data removed]",
            "text/plain": [
              "<Figure size 432x288 with 1 Axes>"
            ]
          },
          "metadata": {
            "tags": [],
            "needs_background": "light"
          }
        }
      ]
    },
    {
      "cell_type": "markdown",
      "metadata": {
        "id": "hQ5motZxNPsy"
      },
      "source": [
        "Calculating and plotting the model metrics"
      ]
    },
    {
      "cell_type": "code",
      "metadata": {
        "id": "0GIJEWUx7muu"
      },
      "source": [
        "y_test = validation_set.labels"
      ],
      "execution_count": 14,
      "outputs": []
    },
    {
      "cell_type": "code",
      "metadata": {
        "id": "z7VZYSGr7muu"
      },
      "source": [
        "y_pred = model.predict_classes(validation_set)\n",
        "y_pred = y_pred.reshape(len(y_pred),)"
      ],
      "execution_count": null,
      "outputs": []
    },
    {
      "cell_type": "code",
      "metadata": {
        "colab": {
          "base_uri": "https://localhost:8080/"
        },
        "id": "Coka4dqm7muv",
        "outputId": "96d05fd8-77ef-4ff7-eee1-c7516331332a"
      },
      "source": [
        "print(precision_score(y_test, y_pred))\n",
        "print(recall_score(y_test, y_pred))\n",
        "print(f1_score(y_test, y_pred))\n",
        "print(cohen_kappa_score(y_test, y_pred))\n",
        "print(roc_auc_score(y_test, y_pred))"
      ],
      "execution_count": 16,
      "outputs": [
        {
          "output_type": "stream",
          "text": [
            "0.8823529411764706\n",
            "1.0\n",
            "0.9375\n",
            "0.813953488372093\n",
            "0.8888888888888888\n"
          ],
          "name": "stdout"
        }
      ]
    },
    {
      "cell_type": "code",
      "metadata": {
        "id": "Tj0KAaeSQzR7"
      },
      "source": [
        "model.save('brain_tumor_detection_mobile.h5')"
      ],
      "execution_count": 18,
      "outputs": []
    }
  ]
}